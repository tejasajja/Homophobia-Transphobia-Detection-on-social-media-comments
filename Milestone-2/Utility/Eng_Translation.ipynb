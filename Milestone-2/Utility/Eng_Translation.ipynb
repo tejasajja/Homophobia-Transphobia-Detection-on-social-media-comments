{
 "cells": [
  {
   "cell_type": "code",
   "execution_count": 16,
   "id": "b695d9f6-3869-4b9f-955f-eb221c236d33",
   "metadata": {},
   "outputs": [],
   "source": [
    "import pandas as pd\n",
    "df=pd.read_csv('eng_3_train.tsv', delimiter='\\t') \n",
    "df=df[[\"text\", \"category\"]]\n",
    "df = df.dropna()\n",
    "df_dev=pd.read_csv('eng_3_dev.tsv', delimiter='\\t') \n",
    "df_dev=df_dev[[\"text\", \"category\"]]\n",
    "df_dev = df_dev.dropna()\n",
    "df_test=pd.read_csv('eng_3_test.tsv', delimiter='\\t') \n",
    "df_test = df_test.dropna()"
   ]
  },
  {
   "cell_type": "code",
   "execution_count": 17,
   "id": "b2e75966-3439-4b04-a104-38d8154c3a8e",
   "metadata": {},
   "outputs": [
    {
     "data": {
      "text/plain": [
       "Index(['category', 'text                        '], dtype='object')"
      ]
     },
     "execution_count": 17,
     "metadata": {},
     "output_type": "execute_result"
    }
   ],
   "source": [
    "df_test.columns"
   ]
  },
  {
   "cell_type": "code",
   "execution_count": 18,
   "id": "4ff86982-9568-4021-820c-5770dadea0db",
   "metadata": {},
   "outputs": [],
   "source": [
    "df_test = df_test.rename(columns={'text                        ': 'text'})"
   ]
  },
  {
   "cell_type": "code",
   "execution_count": 19,
   "id": "c8b01851-d07c-4bc2-8648-b996ea3fc04c",
   "metadata": {},
   "outputs": [
    {
     "data": {
      "text/plain": [
       "Index(['category', 'text'], dtype='object')"
      ]
     },
     "execution_count": 19,
     "metadata": {},
     "output_type": "execute_result"
    }
   ],
   "source": [
    "df_test.columns"
   ]
  },
  {
   "cell_type": "code",
   "execution_count": 20,
   "id": "3242ea6d-df92-423a-b486-18745db404cb",
   "metadata": {},
   "outputs": [],
   "source": [
    "import emoji\n",
    "df['text'] = df['text'].apply(lambda x: emoji.demojize(x, delimiters=(\" \", \" \")))\n",
    "df_dev['text'] = df_dev['text'].apply(lambda x: emoji.demojize(x, delimiters=(\" \", \" \")))\n",
    "df_test['text'] = df_test['text'].apply(lambda x: emoji.demojize(x, delimiters=(\" \", \" \")))"
   ]
  },
  {
   "cell_type": "code",
   "execution_count": 21,
   "id": "49b645c3-a3c5-4ac9-a59e-4551cd098ac4",
   "metadata": {},
   "outputs": [],
   "source": [
    "import googletrans\n",
    "from googletrans import Translator\n",
    "import swifter"
   ]
  },
  {
   "cell_type": "code",
   "execution_count": 3,
   "id": "d8c3eb99-4fd0-4143-8e1a-f9652075fdea",
   "metadata": {},
   "outputs": [],
   "source": [
    "def translate_text(text,target_language,source_language='en'):\n",
    "    translator = Translator()\n",
    "    return translator.translate(text, src=source_language, dest=target_language).text"
   ]
  },
  {
   "cell_type": "raw",
   "id": "b9bf8369-fae4-4752-8070-678be35916cd",
   "metadata": {},
   "source": [
    "#Tamil"
   ]
  },
  {
   "cell_type": "code",
   "execution_count": 26,
   "id": "ec5a8c16-c268-4b9f-8127-947903bd41d2",
   "metadata": {},
   "outputs": [
    {
     "data": {
      "application/vnd.jupyter.widget-view+json": {
       "model_id": "9c453db5b2cc4ef0ba9326d8719ea6fb",
       "version_major": 2,
       "version_minor": 0
      },
      "text/plain": [
       "Pandas Apply:   0%|          | 0/3162 [00:00<?, ?it/s]"
      ]
     },
     "metadata": {},
     "output_type": "display_data"
    }
   ],
   "source": [
    "df_tam=df.copy()\n",
    "df_tam['text'] = df_tam['text'].swifter.apply(lambda x: translate_text(x, 'ta'))\n",
    "df_tam['ln'] = 'eng_tam'\n",
    "df_tam.to_csv('Translations/eng_tam_train.tsv', sep=\"\\t\")"
   ]
  },
  {
   "cell_type": "code",
   "execution_count": 25,
   "id": "59753c5f-2390-4dbd-9d07-5718dce51ba2",
   "metadata": {},
   "outputs": [
    {
     "data": {
      "application/vnd.jupyter.widget-view+json": {
       "model_id": "0254f3d21b084fb09ee64cf39a6bd5cc",
       "version_major": 2,
       "version_minor": 0
      },
      "text/plain": [
       "Pandas Apply:   0%|          | 0/791 [00:00<?, ?it/s]"
      ]
     },
     "metadata": {},
     "output_type": "display_data"
    }
   ],
   "source": [
    "df_dev_tam=df_dev.copy()\n",
    "df_dev_tam['text'] = df_dev_tam['text'].swifter.apply(lambda x: translate_text(x, 'ta'))\n",
    "df_dev_tam['ln'] = 'eng_tam'\n",
    "df_dev_tam.to_csv('Translations/eng_tam_dev.tsv', sep=\"\\t\")"
   ]
  },
  {
   "cell_type": "code",
   "execution_count": 24,
   "id": "72646dbd-4c4e-4adb-b0bc-f0fd89dca03b",
   "metadata": {},
   "outputs": [],
   "source": [
    "df_test_tam=df_test.copy()\n",
    "df_test_tam['text'] = df_test_tam['text'].swifter.apply(lambda x: translate_text(x, 'ta'))\n",
    "df_test_tam['ln'] = 'eng_tam'\n",
    "df_test_tam.to_csv('Translations/eng_tam_test.tsv', sep=\"\\t\")"
   ]
  },
  {
   "cell_type": "markdown",
   "id": "5c5c29ff-d0f5-40e0-a607-d2494e7638aa",
   "metadata": {},
   "source": [
    "#Telugu"
   ]
  },
  {
   "cell_type": "code",
   "execution_count": 28,
   "id": "f779bb77-33be-45c7-aad4-ecb0fc7285dc",
   "metadata": {},
   "outputs": [
    {
     "data": {
      "application/vnd.jupyter.widget-view+json": {
       "model_id": "b317dc87a9464abca8b4b61882215e5a",
       "version_major": 2,
       "version_minor": 0
      },
      "text/plain": [
       "Pandas Apply:   0%|          | 0/3162 [00:00<?, ?it/s]"
      ]
     },
     "metadata": {},
     "output_type": "display_data"
    }
   ],
   "source": [
    "df_tel=df.copy()\n",
    "df_tel['text'] = df_tam['text'].swifter.apply(lambda x: translate_text(x, 'te'))\n",
    "df_tel['ln'] = 'eng_tel'\n",
    "df_tel.to_csv('Translations/eng_tel_train.tsv', sep=\"\\t\")"
   ]
  },
  {
   "cell_type": "code",
   "execution_count": 29,
   "id": "7f18fd49-3e48-405c-86af-4dd4e805e20a",
   "metadata": {},
   "outputs": [
    {
     "data": {
      "application/vnd.jupyter.widget-view+json": {
       "model_id": "4a7fb1d9ed3a4bbf9ab684475bdad1d5",
       "version_major": 2,
       "version_minor": 0
      },
      "text/plain": [
       "Pandas Apply:   0%|          | 0/791 [00:00<?, ?it/s]"
      ]
     },
     "metadata": {},
     "output_type": "display_data"
    }
   ],
   "source": [
    "df_dev_tel=df_dev.copy()\n",
    "df_dev_tel['text'] = df_dev_tel['text'].swifter.apply(lambda x: translate_text(x, 'te'))\n",
    "df_dev_tel['ln'] = 'eng_tel'\n",
    "df_dev_tel.to_csv('Translations/eng_tel_dev.tsv', sep=\"\\t\")"
   ]
  },
  {
   "cell_type": "code",
   "execution_count": 30,
   "id": "b6f1c345-e8db-469b-9f44-f6a5118c9e35",
   "metadata": {},
   "outputs": [
    {
     "data": {
      "application/vnd.jupyter.widget-view+json": {
       "model_id": "b14c57230f884cabaae99818f5112eef",
       "version_major": 2,
       "version_minor": 0
      },
      "text/plain": [
       "Pandas Apply:   0%|          | 0/990 [00:00<?, ?it/s]"
      ]
     },
     "metadata": {},
     "output_type": "display_data"
    }
   ],
   "source": [
    "df_test_tel=df_test.copy()\n",
    "df_test_tel['text'] = df_test_tel['text'].swifter.apply(lambda x: translate_text(x, 'te'))\n",
    "df_test_tel['ln'] = 'eng_tel'\n",
    "df_test_tel.to_csv('Translations/eng_tel_test.tsv', sep=\"\\t\")"
   ]
  },
  {
   "cell_type": "markdown",
   "id": "81c47e37-0eb2-4c69-b2ad-36441ee847be",
   "metadata": {},
   "source": [
    "#Hindi"
   ]
  },
  {
   "cell_type": "code",
   "execution_count": 31,
   "id": "acda180e-3820-4c48-95d1-fb219005f68e",
   "metadata": {},
   "outputs": [
    {
     "data": {
      "application/vnd.jupyter.widget-view+json": {
       "model_id": "de9eb219e2bb4364aead311d6c27bfb6",
       "version_major": 2,
       "version_minor": 0
      },
      "text/plain": [
       "Pandas Apply:   0%|          | 0/3162 [00:00<?, ?it/s]"
      ]
     },
     "metadata": {},
     "output_type": "display_data"
    }
   ],
   "source": [
    "df_hin=df.copy()\n",
    "df_hin['text'] = df_hin['text'].swifter.apply(lambda x: translate_text(x, 'hi'))\n",
    "df_hin['ln'] = 'eng_hin'\n",
    "df_hin.to_csv('Translations/eng_hin_train.tsv', sep=\"\\t\")"
   ]
  },
  {
   "cell_type": "code",
   "execution_count": 32,
   "id": "59655bd8-e653-44eb-8919-1583ec6f09ad",
   "metadata": {},
   "outputs": [
    {
     "data": {
      "application/vnd.jupyter.widget-view+json": {
       "model_id": "6eba1fbd07524a9d8dcfa9bfce859418",
       "version_major": 2,
       "version_minor": 0
      },
      "text/plain": [
       "Pandas Apply:   0%|          | 0/791 [00:00<?, ?it/s]"
      ]
     },
     "metadata": {},
     "output_type": "display_data"
    }
   ],
   "source": [
    "df_dev_hin=df_dev.copy()\n",
    "df_dev_hin['text'] = df_dev_hin['text'].swifter.apply(lambda x: translate_text(x, 'hi'))\n",
    "df_dev_hin['ln'] = 'eng_hin'\n",
    "df_dev_hin.to_csv('Translations/eng_hin_dev.tsv', sep=\"\\t\")"
   ]
  },
  {
   "cell_type": "code",
   "execution_count": 33,
   "id": "d0e4e3d5-5243-4074-a565-9e1d82c16a66",
   "metadata": {},
   "outputs": [
    {
     "data": {
      "application/vnd.jupyter.widget-view+json": {
       "model_id": "788f4967e37648eeb2931b23875f3626",
       "version_major": 2,
       "version_minor": 0
      },
      "text/plain": [
       "Pandas Apply:   0%|          | 0/990 [00:00<?, ?it/s]"
      ]
     },
     "metadata": {},
     "output_type": "display_data"
    }
   ],
   "source": [
    "df_test_hin=df_test.copy()\n",
    "df_test_hin['text'] = df_test_hin['text'].swifter.apply(lambda x: translate_text(x, 'hi'))\n",
    "df_test_hin['ln'] = 'eng_hin'\n",
    "df_test_hin.to_csv('Translations/eng_hin_test.tsv', sep=\"\\t\")"
   ]
  },
  {
   "cell_type": "code",
   "execution_count": null,
   "id": "5a4f7acc-5a3e-4469-b4bf-932942e75462",
   "metadata": {},
   "outputs": [],
   "source": [
    "#MAlyalam"
   ]
  },
  {
   "cell_type": "code",
   "execution_count": 34,
   "id": "6a3a641e-828c-497a-909c-ee0cd502ef34",
   "metadata": {},
   "outputs": [
    {
     "data": {
      "application/vnd.jupyter.widget-view+json": {
       "model_id": "bf362106e9e9457db9ab03ab3dad5cef",
       "version_major": 2,
       "version_minor": 0
      },
      "text/plain": [
       "Pandas Apply:   0%|          | 0/3162 [00:00<?, ?it/s]"
      ]
     },
     "metadata": {},
     "output_type": "display_data"
    }
   ],
   "source": [
    "df_ml=df.copy()\n",
    "df_ml['text'] = df_ml['text'].swifter.apply(lambda x: translate_text(x, 'ml'))\n",
    "df_ml['ln'] = 'eng_ml'\n",
    "df_ml.to_csv('Translations/eng_ml_train.tsv', sep=\"\\t\")"
   ]
  },
  {
   "cell_type": "code",
   "execution_count": 35,
   "id": "5f1df3d7-fa21-489e-979e-cb1f4ecfcc1f",
   "metadata": {},
   "outputs": [
    {
     "data": {
      "application/vnd.jupyter.widget-view+json": {
       "model_id": "db2368d41fc947138d9a44a5c10a8183",
       "version_major": 2,
       "version_minor": 0
      },
      "text/plain": [
       "Pandas Apply:   0%|          | 0/791 [00:00<?, ?it/s]"
      ]
     },
     "metadata": {},
     "output_type": "display_data"
    }
   ],
   "source": [
    "df_dev_ml=df_dev.copy()\n",
    "df_dev_ml['text'] = df_dev_ml['text'].swifter.apply(lambda x: translate_text(x, 'ml'))\n",
    "df_dev_ml['ln'] = 'eng_ml'\n",
    "df_dev_ml.to_csv('Translations/eng_ml_dev.tsv', sep=\"\\t\")"
   ]
  },
  {
   "cell_type": "code",
   "execution_count": 36,
   "id": "bcb9f3cb-5174-4faa-ba96-c8ed08c8e5a5",
   "metadata": {},
   "outputs": [
    {
     "data": {
      "application/vnd.jupyter.widget-view+json": {
       "model_id": "002cf016090a44f486a5ba43add26fea",
       "version_major": 2,
       "version_minor": 0
      },
      "text/plain": [
       "Pandas Apply:   0%|          | 0/990 [00:00<?, ?it/s]"
      ]
     },
     "metadata": {},
     "output_type": "display_data"
    }
   ],
   "source": [
    "df_test_ml=df_test.copy()\n",
    "df_test_ml['text'] = df_test_ml['text'].swifter.apply(lambda x: translate_text(x, 'ml'))\n",
    "df_test_ml['ln'] = 'eng_ml'\n",
    "df_test_ml.to_csv('Translations/eng_ml_test.tsv', sep=\"\\t\")"
   ]
  }
 ],
 "metadata": {
  "kernelspec": {
   "display_name": "Python 3 (ipykernel)",
   "language": "python",
   "name": "python3"
  },
  "language_info": {
   "codemirror_mode": {
    "name": "ipython",
    "version": 3
   },
   "file_extension": ".py",
   "mimetype": "text/x-python",
   "name": "python",
   "nbconvert_exporter": "python",
   "pygments_lexer": "ipython3",
   "version": "3.9.9"
  }
 },
 "nbformat": 4,
 "nbformat_minor": 5
}
