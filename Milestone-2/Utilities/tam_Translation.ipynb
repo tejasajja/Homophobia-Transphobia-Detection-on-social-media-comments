{
 "cells": [
  {
   "cell_type": "code",
   "execution_count": 3,
   "id": "b695d9f6-3869-4b9f-955f-eb221c236d33",
   "metadata": {},
   "outputs": [],
   "source": [
    "import pandas as pd\n",
    "df=pd.read_csv('tam_3_train.tsv', delimiter='\\t') \n",
    "df=df[[\"text\", \"category\"]]\n",
    "df = df.dropna()\n",
    "df_dev=pd.read_csv('tam_3_dev.tsv', delimiter='\\t') \n",
    "df_dev=df_dev[[\"text\", \"category\"]]\n",
    "df_dev = df_dev.dropna()\n",
    "df_test=pd.read_csv('tam_3_test.tsv', delimiter='\\t') \n",
    "df_test=df_test[[\"text\", \"category\"]]\n",
    "df_test = df_test.dropna()"
   ]
  },
  {
   "cell_type": "code",
   "execution_count": 19,
   "id": "2432558f-30ab-4640-b00f-0f572600ce9e",
   "metadata": {},
   "outputs": [
    {
     "data": {
      "text/html": [
       "<div>\n",
       "<style scoped>\n",
       "    .dataframe tbody tr th:only-of-type {\n",
       "        vertical-align: middle;\n",
       "    }\n",
       "\n",
       "    .dataframe tbody tr th {\n",
       "        vertical-align: top;\n",
       "    }\n",
       "\n",
       "    .dataframe thead th {\n",
       "        text-align: right;\n",
       "    }\n",
       "</style>\n",
       "<table border=\"1\" class=\"dataframe\">\n",
       "  <thead>\n",
       "    <tr style=\"text-align: right;\">\n",
       "      <th></th>\n",
       "      <th>text</th>\n",
       "      <th>category</th>\n",
       "    </tr>\n",
       "  </thead>\n",
       "  <tbody>\n",
       "    <tr>\n",
       "      <th>0</th>\n",
       "      <td>அர்த்தநாரீஸ்வரர் ஆணுமானவர் பெண்ணுமானவர். இது ஒ...</td>\n",
       "      <td>Transphobic</td>\n",
       "    </tr>\n",
       "    <tr>\n",
       "      <th>1</th>\n",
       "      <td>section377 | ஓரினச்சேர்க்கை நல்லதா கெட்டதா மக்...</td>\n",
       "      <td>Non-anti-LGBT+ content</td>\n",
       "    </tr>\n",
       "    <tr>\n",
       "      <th>2</th>\n",
       "      <td>இருக்கிற நாலு பேர் சேர்ந்து அந்த பொறம்போக்கு ச...</td>\n",
       "      <td>Transphobic</td>\n",
       "    </tr>\n",
       "    <tr>\n",
       "      <th>3</th>\n",
       "      <td>Shanth sha  உடலுறவு இனப்பெருக்கத்திற்கு மட்டும...</td>\n",
       "      <td>Non-anti-LGBT+ content</td>\n",
       "    </tr>\n",
       "    <tr>\n",
       "      <th>4</th>\n",
       "      <td>ஜீவநதி ப்ரியன்  hi</td>\n",
       "      <td>Non-anti-LGBT+ content</td>\n",
       "    </tr>\n",
       "    <tr>\n",
       "      <th>...</th>\n",
       "      <td>...</td>\n",
       "      <td>...</td>\n",
       "    </tr>\n",
       "    <tr>\n",
       "      <th>2657</th>\n",
       "      <td>நீங்கள் என்னதான் சட்டம் கொண்டுவந்தாலும் இது தவ...</td>\n",
       "      <td>Homophobic</td>\n",
       "    </tr>\n",
       "    <tr>\n",
       "      <th>2658</th>\n",
       "      <td>Ayy Ar  இதய துடிப்பில் உனது நினைவலைகள். ஊன் உற...</td>\n",
       "      <td>Non-anti-LGBT+ content</td>\n",
       "    </tr>\n",
       "    <tr>\n",
       "      <th>2659</th>\n",
       "      <td>இவர்கள் இவ்வளவு பண்ணிவிட்டு எங்களை சமுதாயம் மத...</td>\n",
       "      <td>Non-anti-LGBT+ content</td>\n",
       "    </tr>\n",
       "    <tr>\n",
       "      <th>2660</th>\n",
       "      <td>ப்ரோ அவங்களுக்கு.திருநங்கைகள் தான் இவங்க.கட்டப...</td>\n",
       "      <td>Non-anti-LGBT+ content</td>\n",
       "    </tr>\n",
       "    <tr>\n",
       "      <th>2661</th>\n",
       "      <td>அருமை சகோ நீ தான்ப்ப ரியால் மனிதன்  red_heart ...</td>\n",
       "      <td>Non-anti-LGBT+ content</td>\n",
       "    </tr>\n",
       "  </tbody>\n",
       "</table>\n",
       "<p>2655 rows × 2 columns</p>\n",
       "</div>"
      ],
      "text/plain": [
       "                                                   text  \\\n",
       "0     அர்த்தநாரீஸ்வரர் ஆணுமானவர் பெண்ணுமானவர். இது ஒ...   \n",
       "1     section377 | ஓரினச்சேர்க்கை நல்லதா கெட்டதா மக்...   \n",
       "2     இருக்கிற நாலு பேர் சேர்ந்து அந்த பொறம்போக்கு ச...   \n",
       "3     Shanth sha  உடலுறவு இனப்பெருக்கத்திற்கு மட்டும...   \n",
       "4                                    ஜீவநதி ப்ரியன்  hi   \n",
       "...                                                 ...   \n",
       "2657  நீங்கள் என்னதான் சட்டம் கொண்டுவந்தாலும் இது தவ...   \n",
       "2658  Ayy Ar  இதய துடிப்பில் உனது நினைவலைகள். ஊன் உற...   \n",
       "2659  இவர்கள் இவ்வளவு பண்ணிவிட்டு எங்களை சமுதாயம் மத...   \n",
       "2660  ப்ரோ அவங்களுக்கு.திருநங்கைகள் தான் இவங்க.கட்டப...   \n",
       "2661  அருமை சகோ நீ தான்ப்ப ரியால் மனிதன்  red_heart ...   \n",
       "\n",
       "                    category  \n",
       "0                Transphobic  \n",
       "1     Non-anti-LGBT+ content  \n",
       "2                Transphobic  \n",
       "3     Non-anti-LGBT+ content  \n",
       "4     Non-anti-LGBT+ content  \n",
       "...                      ...  \n",
       "2657              Homophobic  \n",
       "2658  Non-anti-LGBT+ content  \n",
       "2659  Non-anti-LGBT+ content  \n",
       "2660  Non-anti-LGBT+ content  \n",
       "2661  Non-anti-LGBT+ content  \n",
       "\n",
       "[2655 rows x 2 columns]"
      ]
     },
     "execution_count": 19,
     "metadata": {},
     "output_type": "execute_result"
    }
   ],
   "source": [
    "df"
   ]
  },
  {
   "cell_type": "code",
   "execution_count": 4,
   "id": "b2e75966-3439-4b04-a104-38d8154c3a8e",
   "metadata": {},
   "outputs": [
    {
     "data": {
      "text/plain": [
       "Index(['text', 'category'], dtype='object')"
      ]
     },
     "execution_count": 4,
     "metadata": {},
     "output_type": "execute_result"
    }
   ],
   "source": [
    "df_test.columns"
   ]
  },
  {
   "cell_type": "code",
   "execution_count": 5,
   "id": "4ff86982-9568-4021-820c-5770dadea0db",
   "metadata": {},
   "outputs": [],
   "source": [
    "df_test = df_test.rename(columns={'text                        ': 'text'})"
   ]
  },
  {
   "cell_type": "code",
   "execution_count": 6,
   "id": "c8b01851-d07c-4bc2-8648-b996ea3fc04c",
   "metadata": {},
   "outputs": [
    {
     "data": {
      "text/plain": [
       "Index(['text', 'category'], dtype='object')"
      ]
     },
     "execution_count": 6,
     "metadata": {},
     "output_type": "execute_result"
    }
   ],
   "source": [
    "df_test.columns"
   ]
  },
  {
   "cell_type": "code",
   "execution_count": 9,
   "id": "3242ea6d-df92-423a-b486-18745db404cb",
   "metadata": {},
   "outputs": [],
   "source": [
    "import emoji\n",
    "df['text'] = df['text'].apply(lambda x: emoji.demojize(x, delimiters=(\" \", \" \")))\n",
    "df_dev['text'] = df_dev['text'].apply(lambda x: emoji.demojize(x, delimiters=(\" \", \" \")))\n",
    "df_test['text'] = df_test['text'].apply(lambda x: emoji.demojize(x, delimiters=(\" \", \" \")))"
   ]
  },
  {
   "cell_type": "code",
   "execution_count": 10,
   "id": "49b645c3-a3c5-4ac9-a59e-4551cd098ac4",
   "metadata": {},
   "outputs": [],
   "source": [
    "import googletrans\n",
    "from googletrans import Translator\n",
    "import swifter"
   ]
  },
  {
   "cell_type": "code",
   "execution_count": 16,
   "id": "d8c3eb99-4fd0-4143-8e1a-f9652075fdea",
   "metadata": {},
   "outputs": [],
   "source": [
    "def translate_text(text,target_language,source_language='ta'):\n",
    "    translator = Translator()\n",
    "    return translator.translate(text, src=source_language, dest=target_language).text"
   ]
  },
  {
   "cell_type": "raw",
   "id": "b9bf8369-fae4-4752-8070-678be35916cd",
   "metadata": {},
   "source": [
    "#Tamil"
   ]
  },
  {
   "cell_type": "code",
   "execution_count": 20,
   "id": "ec5a8c16-c268-4b9f-8127-947903bd41d2",
   "metadata": {},
   "outputs": [
    {
     "data": {
      "application/vnd.jupyter.widget-view+json": {
       "model_id": "0a1114556c3d44bc939ce49f8df24b67",
       "version_major": 2,
       "version_minor": 0
      },
      "text/plain": [
       "Pandas Apply:   0%|          | 0/2655 [00:00<?, ?it/s]"
      ]
     },
     "metadata": {},
     "output_type": "display_data"
    }
   ],
   "source": [
    "df_tam=df.copy()\n",
    "df_tam['text'] = df_tam['text'].swifter.apply(lambda x: translate_text(x, 'en'))\n",
    "df_tam['ln'] = 'tam_eng'\n",
    "df_tam.to_csv('Translations/tam_eng_train.tsv', sep=\"\\t\")"
   ]
  },
  {
   "cell_type": "code",
   "execution_count": 21,
   "id": "59753c5f-2390-4dbd-9d07-5718dce51ba2",
   "metadata": {},
   "outputs": [
    {
     "data": {
      "application/vnd.jupyter.widget-view+json": {
       "model_id": "251a34030b514c9ea425b97934580c04",
       "version_major": 2,
       "version_minor": 0
      },
      "text/plain": [
       "Pandas Apply:   0%|          | 0/665 [00:00<?, ?it/s]"
      ]
     },
     "metadata": {},
     "output_type": "display_data"
    }
   ],
   "source": [
    "df_dev_tam=df_dev.copy()\n",
    "df_dev_tam['text'] = df_dev_tam['text'].swifter.apply(lambda x: translate_text(x, 'en'))\n",
    "df_dev_tam['ln'] = 'tam_eng'\n",
    "df_dev_tam.to_csv('Translations/tam_eng_dev.tsv', sep=\"\\t\")"
   ]
  },
  {
   "cell_type": "code",
   "execution_count": 17,
   "id": "72646dbd-4c4e-4adb-b0bc-f0fd89dca03b",
   "metadata": {},
   "outputs": [
    {
     "data": {
      "application/vnd.jupyter.widget-view+json": {
       "model_id": "d9dd979f68b34ed98b7d9d01b540ac26",
       "version_major": 2,
       "version_minor": 0
      },
      "text/plain": [
       "Pandas Apply:   0%|          | 0/829 [00:00<?, ?it/s]"
      ]
     },
     "metadata": {},
     "output_type": "display_data"
    }
   ],
   "source": [
    "df_test_tam=df_test.copy()\n",
    "df_test_tam['text'] = df_test_tam['text'].swifter.apply(lambda x: translate_text(x, 'en'))\n",
    "df_test_tam['ln'] = 'tam_eng'\n",
    "df_test_tam.to_csv('Translations/tam_eng_test.tsv', sep=\"\\t\")"
   ]
  },
  {
   "cell_type": "markdown",
   "id": "5c5c29ff-d0f5-40e0-a607-d2494e7638aa",
   "metadata": {},
   "source": [
    "#Telugu"
   ]
  },
  {
   "cell_type": "code",
   "execution_count": 22,
   "id": "f779bb77-33be-45c7-aad4-ecb0fc7285dc",
   "metadata": {},
   "outputs": [
    {
     "data": {
      "application/vnd.jupyter.widget-view+json": {
       "model_id": "ae5f975ab1be4e7c97d79dcdb202f027",
       "version_major": 2,
       "version_minor": 0
      },
      "text/plain": [
       "Pandas Apply:   0%|          | 0/2655 [00:00<?, ?it/s]"
      ]
     },
     "metadata": {},
     "output_type": "display_data"
    }
   ],
   "source": [
    "df_tel=df.copy()\n",
    "df_tel['text'] = df_tam['text'].swifter.apply(lambda x: translate_text(x, 'te'))\n",
    "df_tel['ln'] = 'eng_tel'\n",
    "df_tel.to_csv('Translations/tam_tel_train.tsv', sep=\"\\t\")"
   ]
  },
  {
   "cell_type": "code",
   "execution_count": 23,
   "id": "7f18fd49-3e48-405c-86af-4dd4e805e20a",
   "metadata": {},
   "outputs": [
    {
     "data": {
      "application/vnd.jupyter.widget-view+json": {
       "model_id": "654eff42881e47cf8e238fe403732ff2",
       "version_major": 2,
       "version_minor": 0
      },
      "text/plain": [
       "Pandas Apply:   0%|          | 0/665 [00:00<?, ?it/s]"
      ]
     },
     "metadata": {},
     "output_type": "display_data"
    }
   ],
   "source": [
    "df_dev_tel=df_dev.copy()\n",
    "df_dev_tel['text'] = df_dev_tel['text'].swifter.apply(lambda x: translate_text(x, 'te'))\n",
    "df_dev_tel['ln'] = 'eng_tel'\n",
    "df_dev_tel.to_csv('Translations/tam_tel_dev.tsv', sep=\"\\t\")"
   ]
  },
  {
   "cell_type": "code",
   "execution_count": 31,
   "id": "b6f1c345-e8db-469b-9f44-f6a5118c9e35",
   "metadata": {},
   "outputs": [
    {
     "data": {
      "application/vnd.jupyter.widget-view+json": {
       "model_id": "cd6741de3be54bf2b83e3d7917369bbe",
       "version_major": 2,
       "version_minor": 0
      },
      "text/plain": [
       "Pandas Apply:   0%|          | 0/829 [00:00<?, ?it/s]"
      ]
     },
     "metadata": {},
     "output_type": "display_data"
    }
   ],
   "source": [
    "df_test_tel=df_test.copy()\n",
    "df_test_tel['text'] = df_test_tel['text'].swifter.apply(lambda x: translate_text(x,'te'))\n",
    "df_test_tel['ln'] = 'eng_tel'\n",
    "df_test_tel.to_csv('Translations/tam_tel_test.tsv', sep=\"\\t\")"
   ]
  },
  {
   "cell_type": "markdown",
   "id": "81c47e37-0eb2-4c69-b2ad-36441ee847be",
   "metadata": {},
   "source": [
    "#Hindi"
   ]
  },
  {
   "cell_type": "code",
   "execution_count": 25,
   "id": "acda180e-3820-4c48-95d1-fb219005f68e",
   "metadata": {},
   "outputs": [
    {
     "data": {
      "application/vnd.jupyter.widget-view+json": {
       "model_id": "32f95d3b79f84ff0a6eb8bc83cd23709",
       "version_major": 2,
       "version_minor": 0
      },
      "text/plain": [
       "Pandas Apply:   0%|          | 0/2655 [00:00<?, ?it/s]"
      ]
     },
     "metadata": {},
     "output_type": "display_data"
    }
   ],
   "source": [
    "df_hin=df.copy()\n",
    "df_hin['text'] = df_hin['text'].swifter.apply(lambda x: translate_text(x, 'hi'))\n",
    "df_hin['ln'] = 'eng_hin'\n",
    "df_hin.to_csv('Translations/tam_hin_train.tsv', sep=\"\\t\")"
   ]
  },
  {
   "cell_type": "code",
   "execution_count": 26,
   "id": "59655bd8-e653-44eb-8919-1583ec6f09ad",
   "metadata": {},
   "outputs": [
    {
     "data": {
      "application/vnd.jupyter.widget-view+json": {
       "model_id": "45c0504984a24bdb9e38bd48af655635",
       "version_major": 2,
       "version_minor": 0
      },
      "text/plain": [
       "Pandas Apply:   0%|          | 0/665 [00:00<?, ?it/s]"
      ]
     },
     "metadata": {},
     "output_type": "display_data"
    }
   ],
   "source": [
    "df_dev_hin=df_dev.copy()\n",
    "df_dev_hin['text'] = df_dev_hin['text'].swifter.apply(lambda x: translate_text(x, 'hi'))\n",
    "df_dev_hin['ln'] = 'eng_hin'\n",
    "df_dev_hin.to_csv('Translations/tam_hin_dev.tsv', sep=\"\\t\")"
   ]
  },
  {
   "cell_type": "code",
   "execution_count": 27,
   "id": "d0e4e3d5-5243-4074-a565-9e1d82c16a66",
   "metadata": {},
   "outputs": [
    {
     "data": {
      "application/vnd.jupyter.widget-view+json": {
       "model_id": "1f6a7b8953e64cb785b6b14b15b3e46e",
       "version_major": 2,
       "version_minor": 0
      },
      "text/plain": [
       "Pandas Apply:   0%|          | 0/829 [00:00<?, ?it/s]"
      ]
     },
     "metadata": {},
     "output_type": "display_data"
    }
   ],
   "source": [
    "df_test_hin=df_test.copy()\n",
    "df_test_hin['text'] = df_test_hin['text'].swifter.apply(lambda x: translate_text(x, 'hi'))\n",
    "df_test_hin['ln'] = 'eng_hin'\n",
    "df_test_hin.to_csv('Translations/tam_hin_test.tsv', sep=\"\\t\")"
   ]
  },
  {
   "cell_type": "code",
   "execution_count": null,
   "id": "5a4f7acc-5a3e-4469-b4bf-932942e75462",
   "metadata": {},
   "outputs": [],
   "source": [
    "#MAlyalam"
   ]
  },
  {
   "cell_type": "code",
   "execution_count": 28,
   "id": "6a3a641e-828c-497a-909c-ee0cd502ef34",
   "metadata": {},
   "outputs": [
    {
     "data": {
      "application/vnd.jupyter.widget-view+json": {
       "model_id": "09a8325084eb439cb35627542b98aeb8",
       "version_major": 2,
       "version_minor": 0
      },
      "text/plain": [
       "Pandas Apply:   0%|          | 0/2655 [00:00<?, ?it/s]"
      ]
     },
     "metadata": {},
     "output_type": "display_data"
    }
   ],
   "source": [
    "df_ml=df.copy()\n",
    "df_ml['text'] = df_ml['text'].swifter.apply(lambda x: translate_text(x, 'ml'))\n",
    "df_ml['ln'] = 'eng_ml'\n",
    "df_ml.to_csv('Translations/tam_ml_train.tsv', sep=\"\\t\")"
   ]
  },
  {
   "cell_type": "code",
   "execution_count": 29,
   "id": "5f1df3d7-fa21-489e-979e-cb1f4ecfcc1f",
   "metadata": {},
   "outputs": [
    {
     "data": {
      "application/vnd.jupyter.widget-view+json": {
       "model_id": "f742407308624f5ba684e410d9053f9b",
       "version_major": 2,
       "version_minor": 0
      },
      "text/plain": [
       "Pandas Apply:   0%|          | 0/665 [00:00<?, ?it/s]"
      ]
     },
     "metadata": {},
     "output_type": "display_data"
    }
   ],
   "source": [
    "df_dev_ml=df_dev.copy()\n",
    "df_dev_ml['text'] = df_dev_ml['text'].swifter.apply(lambda x: translate_text(x, 'ml'))\n",
    "df_dev_ml['ln'] = 'eng_ml'\n",
    "df_dev_ml.to_csv('Translations/tam_ml_dev.tsv', sep=\"\\t\")"
   ]
  },
  {
   "cell_type": "code",
   "execution_count": 30,
   "id": "bcb9f3cb-5174-4faa-ba96-c8ed08c8e5a5",
   "metadata": {},
   "outputs": [
    {
     "data": {
      "application/vnd.jupyter.widget-view+json": {
       "model_id": "cbb428d3f1514d54ae4c831398c6d715",
       "version_major": 2,
       "version_minor": 0
      },
      "text/plain": [
       "Pandas Apply:   0%|          | 0/829 [00:00<?, ?it/s]"
      ]
     },
     "metadata": {},
     "output_type": "display_data"
    }
   ],
   "source": [
    "df_test_ml=df_test.copy()\n",
    "df_test_ml['text'] = df_test_ml['text'].swifter.apply(lambda x: translate_text(x, 'ml'))\n",
    "df_test_ml['ln'] = 'eng_ml'\n",
    "df_test_ml.to_csv('Translations/tam_ml_test.tsv', sep=\"\\t\")"
   ]
  },
  {
   "cell_type": "code",
   "execution_count": null,
   "id": "d1132bb5-eddd-473d-a09a-4701d27798cb",
   "metadata": {},
   "outputs": [],
   "source": []
  }
 ],
 "metadata": {
  "kernelspec": {
   "display_name": "Python 3 (ipykernel)",
   "language": "python",
   "name": "python3"
  },
  "language_info": {
   "codemirror_mode": {
    "name": "ipython",
    "version": 3
   },
   "file_extension": ".py",
   "mimetype": "text/x-python",
   "name": "python",
   "nbconvert_exporter": "python",
   "pygments_lexer": "ipython3",
   "version": "3.9.9"
  }
 },
 "nbformat": 4,
 "nbformat_minor": 5
}
