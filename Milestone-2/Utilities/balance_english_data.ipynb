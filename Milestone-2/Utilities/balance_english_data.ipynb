{
  "cells": [
    {
      "cell_type": "code",
      "execution_count": null,
      "metadata": {
        "id": "cbuCotqF89Ia"
      },
      "outputs": [],
      "source": [
        "import pandas as pd\n",
        "df=pd.read_csv('/content/eng_3_train.tsv', delimiter='\\t') \n",
        "df=df[[\"text\", \"category\"]]\n",
        "df = df.dropna()\n",
        "df_dev=pd.read_csv('/content/eng_3_dev.tsv', delimiter='\\t') \n",
        "df_dev=df_dev[[\"text\", \"category\"]]\n",
        "df_dev = df_dev.dropna()\n",
        "df_test=pd.read_csv('/content/eng_3_test.tsv', delimiter='\\t')\n",
        "df_test = df_test.rename(columns={'text                        ': 'text'}) \n",
        "df_test = df_test.dropna()"
      ]
    },
    {
      "cell_type": "code",
      "execution_count": null,
      "metadata": {
        "id": "K2qUtobn_J-t"
      },
      "outputs": [],
      "source": [
        "tedf=pd.read_csv('/content/tam_eng_train.tsv', delimiter='\\t') \n",
        "tedf=tedf[[\"text\", \"category\"]]\n",
        "tedf = tedf.dropna()\n",
        "tedf_dev=pd.read_csv('/content/tam_eng_dev.tsv', delimiter='\\t') \n",
        "tedf_dev=tedf_dev[[\"text\", \"category\"]]\n",
        "tedf_dev = tedf_dev.dropna()\n",
        "tedf_test=pd.read_csv('/content/tam_eng_test.tsv', delimiter='\\t') \n",
        "tedf_test = tedf_test.dropna()"
      ]
    },
    {
      "cell_type": "markdown",
      "metadata": {
        "id": "9031RBX6Hy1l"
      },
      "source": [
        "\n",
        "### Mixing english and tamil translated to english data"
      ]
    },
    {
      "cell_type": "code",
      "execution_count": null,
      "metadata": {
        "id": "Z2i_OYr5COSn"
      },
      "outputs": [],
      "source": [
        "train = df\n",
        "valid = df_dev\n",
        "test = tedf_test"
      ]
    },
    {
      "cell_type": "code",
      "execution_count": null,
      "metadata": {
        "id": "3XqvWygq_MeV"
      },
      "outputs": [],
      "source": [
        "train = pd.concat([df, tedf])\n",
        "valid = pd.concat([df_dev,tedf_dev])\n",
        "test = pd.concat([tedf_test,df_test])"
      ]
    },
    {
      "cell_type": "code",
      "execution_count": null,
      "metadata": {
        "id": "rDnocKRH_4Tp",
        "colab": {
          "base_uri": "https://localhost:8080/"
        },
        "outputId": "c0041810-a87c-4eab-a575-fef249e7d041"
      },
      "outputs": [
        {
          "output_type": "stream",
          "name": "stdout",
          "text": [
            "5817\n",
            "1456\n",
            "1819\n"
          ]
        }
      ],
      "source": [
        "print(len(train))\n",
        "print(len(valid))\n",
        "print(len(test))"
      ]
    },
    {
      "cell_type": "code",
      "source": [
        "print((train['category'].value_counts()))\n",
        "print((valid['category'].value_counts()))\n",
        "print((test['category'].value_counts()))"
      ],
      "metadata": {
        "id": "pGncJSk08wfZ",
        "colab": {
          "base_uri": "https://localhost:8080/"
        },
        "outputId": "e3d0ca36-d9ac-473c-bdda-4875625bf9f8"
      },
      "execution_count": null,
      "outputs": [
        {
          "output_type": "stream",
          "name": "stdout",
          "text": [
            "Non-anti-LGBT+ content    5017\n",
            "Homophobic                 642\n",
            "Transphobic                158\n",
            "Name: category, dtype: int64\n",
            "Non-anti-LGBT+ content    1257\n",
            "Homophobic                 161\n",
            "Transphobic                 38\n",
            "Name: category, dtype: int64\n",
            "Non-anti-LGBT+ content    1579\n",
            "Homophobic                 194\n",
            "Transphobic                 46\n",
            "Name: category, dtype: int64\n"
          ]
        }
      ]
    },
    {
      "cell_type": "code",
      "source": [
        "concatenated = pd.concat([train,test,valid])"
      ],
      "metadata": {
        "id": "U4kqdQzu9jgy"
      },
      "execution_count": null,
      "outputs": []
    },
    {
      "cell_type": "code",
      "source": [
        "concatenated['category'].value_counts()"
      ],
      "metadata": {
        "id": "IfXWQAEt9k3m",
        "colab": {
          "base_uri": "https://localhost:8080/"
        },
        "outputId": "526d4435-e250-48fb-9411-45c8fae378d9"
      },
      "execution_count": null,
      "outputs": [
        {
          "output_type": "execute_result",
          "data": {
            "text/plain": [
              "Non-anti-LGBT+ content    7853\n",
              "Homophobic                 997\n",
              "Transphobic                242\n",
              "Name: category, dtype: int64"
            ]
          },
          "metadata": {},
          "execution_count": 9
        }
      ]
    },
    {
      "cell_type": "code",
      "source": [
        "non_anti_lgbt_df = concatenated[concatenated['category'] == 'Non-anti-LGBT+ content']\n",
        "homophobic_df = concatenated[concatenated['category'] == 'Homophobic']\n",
        "transphobic_df = concatenated[concatenated['category'] == 'Transphobic']"
      ],
      "metadata": {
        "id": "pe7Aca-Z_SiN"
      },
      "execution_count": null,
      "outputs": []
    },
    {
      "cell_type": "code",
      "source": [
        "import pandas as pd\n",
        "import nlpaug.augmenter.word as naw\n",
        "import nlpaug.augmenter.char as nac\n",
        "import random\n",
        "\n",
        "data = homophobic_df.copy()\n",
        "syn_aug = naw.SynonymAug(aug_src='wordnet')\n",
        "lis = []\n",
        "for index, row in data.iterrows():\n",
        "    text = syn_aug.augment(row['text'], n=2)\n",
        "    label = [row['category']] * len(text)\n",
        "    lis.extend(list(zip(text, label)))\n",
        "tf = pd.DataFrame(lis, columns=['text', 'category'])\n",
        "homophobic_df = pd.concat([data, tf], ignore_index=True)\n"
      ],
      "metadata": {
        "id": "hVuPKDdv_dH6"
      },
      "execution_count": null,
      "outputs": []
    },
    {
      "cell_type": "code",
      "source": [
        "data = transphobic_df.copy()\n",
        "syn_aug = naw.SynonymAug(aug_src='wordnet')\n",
        "lis = []\n",
        "for index, row in data.iterrows():\n",
        "    text = syn_aug.augment(row['text'], n=5)\n",
        "    label = [row['category']] * len(text)\n",
        "    lis.extend(list(zip(text, label)))\n",
        "tf = pd.DataFrame(lis, columns=['text', 'category'])\n",
        "transphobic_df = pd.concat([data, tf], ignore_index=True)"
      ],
      "metadata": {
        "id": "oof3y92HADe6"
      },
      "execution_count": null,
      "outputs": []
    },
    {
      "cell_type": "code",
      "source": [
        "data = transphobic_df.copy()\n",
        "aug = naw.RandomWordAug(action='insert')\n",
        "lis = []\n",
        "for index, row in data.iterrows():\n",
        "    text = syn_aug.augment(row['text'], n=1)\n",
        "    label = [row['category']] * len(text)\n",
        "    lis.extend(list(zip(text, label)))\n",
        "tf = pd.DataFrame(lis, columns=['text', 'category'])\n",
        "transphobic_df = pd.concat([data, tf], ignore_index=True)"
      ],
      "metadata": {
        "id": "3MRJNyVKBxOH"
      },
      "execution_count": null,
      "outputs": []
    },
    {
      "cell_type": "code",
      "source": [
        "print((transphobic_df['category'].value_counts()))\n",
        "print((homophobic_df['category'].value_counts()))"
      ],
      "metadata": {
        "id": "mDeQf2YCAI2a",
        "colab": {
          "base_uri": "https://localhost:8080/"
        },
        "outputId": "2a67a987-2197-4125-b355-2f574c211e96"
      },
      "execution_count": null,
      "outputs": [
        {
          "output_type": "stream",
          "name": "stdout",
          "text": [
            "Transphobic    2904\n",
            "Name: category, dtype: int64\n",
            "Homophobic    2991\n",
            "Name: category, dtype: int64\n"
          ]
        }
      ]
    },
    {
      "cell_type": "code",
      "source": [
        "concatenated = pd.DataFrame(pd.concat([transphobic_df,homophobic_df,non_anti_lgbt_df.sample(2991)]))"
      ],
      "metadata": {
        "id": "Z_qu7D1B_ykC"
      },
      "execution_count": null,
      "outputs": []
    },
    {
      "cell_type": "code",
      "source": [
        "concatenated.category.value_counts()"
      ],
      "metadata": {
        "colab": {
          "base_uri": "https://localhost:8080/"
        },
        "id": "Q-43O3AKJCrH",
        "outputId": "04158cb8-1383-46af-f589-82ab6fba1754"
      },
      "execution_count": null,
      "outputs": [
        {
          "output_type": "execute_result",
          "data": {
            "text/plain": [
              "Homophobic                2991\n",
              "Non-anti-LGBT+ content    2991\n",
              "Transphobic               2904\n",
              "Name: category, dtype: int64"
            ]
          },
          "metadata": {},
          "execution_count": 21
        }
      ]
    }
  ],
  "metadata": {
    "accelerator": "GPU",
    "colab": {
      "provenance": [],
      "machine_shape": "hm",
      "gpuType": "T4"
    },
    "gpuClass": "standard",
    "kernelspec": {
      "display_name": "Python 3",
      "name": "python3"
    },
    "language_info": {
      "name": "python"
    }
  },
  "nbformat": 4,
  "nbformat_minor": 0
}